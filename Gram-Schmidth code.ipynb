{
 "cells": [
  {
   "cell_type": "code",
   "execution_count": 1,
   "id": "757cdab4",
   "metadata": {},
   "outputs": [
    {
     "name": "stdout",
     "output_type": "stream",
     "text": [
      "[[-0.75, -0.75, -0.75, -0.75]] [0, 1, 1, 1]\n",
      "[[-0.0, -0.0, -0.0, -0.0], [0.0, -0.0, -0.0, -0.0]] [0, 0, 0, 0]\n",
      "[[-1.75, -1.75, -1.75, -1.75], [-0.25, 0.08333333333333333, 0.08333333333333333, 0.08333333333333333], [0.0, 0.0, 0.0, 0.0]] [2, 2, 2, 1]\n"
     ]
    }
   ],
   "source": [
    "U=[[1,1,1,1]]\n",
    "V=[[0,1,1,1],[0,0,0,0],[2,2,2,1]]\n",
    "for j in range(len(V)):\n",
    "    inner=[]\n",
    "    V1=V[j]\n",
    "    for l in range(j+1):\n",
    "        U1=U[l]\n",
    "        #print(l,U1)\n",
    "        inner1=0\n",
    "        inner2=0\n",
    "       # print(U[0])\n",
    "        for I in range(len(U1)):\n",
    "           # print(U1[I],V1[I])\n",
    "            a=U1[I]*V1[I]\n",
    "            b=U1[I]*U1[I]\n",
    "           # print(I,l,j)\n",
    "            inner1=inner1+a\n",
    "            inner2=inner2+b\n",
    "            #print(inner1,inner2)\n",
    "        if inner2==0:\n",
    "           c=0\n",
    "        else:\n",
    "            c=float(-1*(inner1/inner2))\n",
    "        inner.append(c)\n",
    "  #  print(\"inner\",inner)\n",
    "    U2=[]\n",
    "    for u in range(len(inner)):\n",
    "        x=[]\n",
    "        U1=U[u]\n",
    "     \n",
    "        for u1 in range(len(U1)):\n",
    "            \n",
    "            x.append(inner[u]*U1[u1])\n",
    "        U2.append(x)\n",
    "    print(U2,V1)\n",
    "    W=[]\n",
    "    for k in range(len(V1)):\n",
    "        w=V1[k]\n",
    "        for k1 in range(len(U2)):\n",
    "            w=U2[k1][k]+w\n",
    "        W.append(w)\n",
    "    U.append(W)\n"
   ]
  },
  {
   "cell_type": "code",
   "execution_count": null,
   "id": "7a174d7e",
   "metadata": {},
   "outputs": [],
   "source": []
  }
 ],
 "metadata": {
  "kernelspec": {
   "display_name": "Python 3 (ipykernel)",
   "language": "python",
   "name": "python3"
  },
  "language_info": {
   "codemirror_mode": {
    "name": "ipython",
    "version": 3
   },
   "file_extension": ".py",
   "mimetype": "text/x-python",
   "name": "python",
   "nbconvert_exporter": "python",
   "pygments_lexer": "ipython3",
   "version": "3.10.9"
  }
 },
 "nbformat": 4,
 "nbformat_minor": 5
}
